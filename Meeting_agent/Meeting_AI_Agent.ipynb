{
 "cells": [
  {
   "cell_type": "code",
   "execution_count": 51,
   "metadata": {},
   "outputs": [],
   "source": [
    "from openai import OpenAI\n",
    "from pydantic import BaseModel,Field\n",
    "from typing import Optional\n",
    "import json\n",
    "\n",
    "ollama_client=OpenAI(\n",
    "    base_url=\"http://localhost:11434/v1\",\n",
    "    api_key=\"ollama\"\n",
    ")\n",
    "\n",
    "model=\"llama3.2\"\n",
    "# model=\"deepseek-r1:1.5b\"\n",
    "# model=\"deepseek-r1:8b\"\n",
    "# model=\"gemma:2b\"\n",
    "\n",
    "message=[\n",
    "    {\"role\": \"system\", \"content\": \"You are Ai assistance for Meeting deteils extractor and Meeting managing.\"}\n",
    "]\n",
    "\n",
    "response=ollama_client.chat.completions.create(\n",
    "    model=model,\n",
    "    messages=message\n",
    ")"
   ]
  },
  {
   "cell_type": "code",
   "execution_count": 53,
   "metadata": {},
   "outputs": [],
   "source": [
    "class MeetingExtractor(BaseModel):\n",
    "    \"\"\"The Meeting information extractor\"\"\"\n",
    "    meeting_description:str=Field(description=\"Description of Meeting information.\")\n",
    "    is_calender_event:bool=Field(description=\"This text describe the Meeting is calender event or not.\")\n",
    "    confidence_score:float=Field(description=\"Confidence level between 0 to 1\")\n",
    "\n",
    "\n",
    "def extract_Meeting_info(userInput:str)->MeetingExtractor:\n",
    "    \n",
    "    msg1=[\n",
    "        {'role':'system','content':'Analyze the text for meeting event.'},\n",
    "        {'role':'user','content':userInput}\n",
    "    ]\n",
    "    task1=ollama_client.beta.chat.completions.parse(\n",
    "        model=model,\n",
    "        messages=msg1,\n",
    "        response_format=MeetingExtractor,\n",
    "    )\n",
    "\n",
    "    message.append(task1.choices[0].message)\n",
    "    # return task1.model_dump()\n",
    "    return task1.choices[0].message.parsed"
   ]
  },
  {
   "cell_type": "code",
   "execution_count": 54,
   "metadata": {},
   "outputs": [],
   "source": [
    "class MeetingDetails(BaseModel):\n",
    "    \"\"\"The Meeting details find\"\"\"\n",
    "    title:str=Field(description=\"The title of meeting.\")\n",
    "    date:str=Field(description=\"The Meeting date and time, use day dd-mm-yyyy format. Example Monday, 01-03-2025\")\n",
    "    duration_of_meeting:float=Field(description=\"Time duration for complete the meeting.\")\n",
    "    meeting_participated_members:list[str]=Field(description=\"All members who attent the meeting.\")\n",
    "\n",
    "def extract_Meeting_details(userInput:str)->MeetingDetails:\n",
    "    \n",
    "    msg2=[\n",
    "        {'role':'system','content':'Extract the meeting title, date, time, day,duration. exmaple Monday,01-03-2025.'},\n",
    "        {'role':'user','content':userInput}\n",
    "    ]\n",
    "    task2=ollama_client.beta.chat.completions.parse(\n",
    "        model=model,\n",
    "        messages=msg2,\n",
    "        response_format=MeetingDetails\n",
    "    )\n",
    "\n",
    "    message.append(task2.choices[0].message)\n",
    "    # return task2.model_dump()\n",
    "    return task2.choices[0].message.parsed"
   ]
  },
  {
   "cell_type": "code",
   "execution_count": 55,
   "metadata": {},
   "outputs": [],
   "source": [
    "class EventConfirmation(BaseModel):\n",
    "    \"\"\"Generate confirmation message\"\"\"\n",
    "    confirmation_message: str = Field(description=\"Natural language confirmation message\")\n",
    "    calendar_link: Optional[str] = Field(description=\"Generated calendar link if applicable\")\n",
    "\n",
    "def extract_Meeting_confirmation(userInput:str)->EventConfirmation:\n",
    "    \n",
    "    msg3=[\n",
    "        {'role':'system','content':'Generate a natural confirmation message for the event.'},\n",
    "        {'role':'user','content':userInput}\n",
    "    ]\n",
    "    task3=ollama_client.beta.chat.completions.parse(\n",
    "        model=model,\n",
    "        messages=msg3,\n",
    "        response_format=EventConfirmation\n",
    "    )\n",
    "\n",
    "    message.append(task3.choices[0].message)\n",
    "    # return task3.model_dump()\n",
    "    return task3.choices[0].message.parsed"
   ]
  },
  {
   "cell_type": "code",
   "execution_count": 56,
   "metadata": {},
   "outputs": [],
   "source": [
    "class MeetingData(BaseModel):\n",
    "    \"\"\"Meeting data\"\"\"\n",
    "\n",
    "    meeting_description:str\n",
    "    is_calender_event:bool\n",
    "    confidence_score:float\n",
    "    title:str\n",
    "    date:str\n",
    "    duration_of_meeting:float\n",
    "    meeting_participated_members:list[str]\n",
    "    confirmation_message:str\n",
    "    calendar_link:Optional[str]\n",
    "\n",
    "\n",
    "\n",
    "def getData(prompt:str)->MeetingData:\n",
    "\n",
    "    info=extract_Meeting_info(prompt)\n",
    "\n",
    "    meeting_description:str=info.meeting_description\n",
    "    is_calender_event:bool=info.is_calender_event\n",
    "    confidence_score:float=info.confidence_score\n",
    "\n",
    "    if confidence_score>0.6:\n",
    "\n",
    "        details=extract_Meeting_details(prompt)\n",
    "        title:str=details.title\n",
    "        date:str=details.date\n",
    "        duration_of_meeting:float=details.duration_of_meeting\n",
    "        meeting_participated_members:list[str]=details.meeting_participated_members\n",
    "\n",
    "        confirmation=extract_Meeting_confirmation(prompt)\n",
    "        confirmation_message: str=confirmation.confirmation_message\n",
    "        calendar_link: Optional[str]=confirmation.calendar_link\n",
    "\n",
    "        print(meeting_description,\"\\n\",is_calender_event,\"\\n\",confidence_score,\"\\n\",title,\"\\n\",date,\"\\n\",duration_of_meeting,\"\\n\",meeting_participated_members,\"\\n\",confirmation_message,\"\\n\",calendar_link)\n",
    "\n",
    "\n",
    "        msg_main=[\n",
    "            {'role':'system','content':'Generate a natural confirmation message for the event.'},\n",
    "            {'role':'user','content':prompt}\n",
    "        ]\n",
    "        task_main=ollama_client.beta.chat.completions.parse(\n",
    "            model=model,\n",
    "            messages=msg_main,\n",
    "            response_format=MeetingData\n",
    "        )\n",
    "        \n",
    "        return task_main.model_dump()\n",
    "\n",
    "    else:\n",
    "        print(\"this is not meeting.....\")"
   ]
  },
  {
   "cell_type": "code",
   "execution_count": 61,
   "metadata": {},
   "outputs": [
    {
     "name": "stdout",
     "output_type": "stream",
     "text": [
      "project road map discussion \n",
      " True \n",
      " 0.9 \n",
      " Project Roadmap Discussion \n",
      " Wednesday, 26-02-2025 \n",
      " 1.0 \n",
      " ['Alice', 'Bob'] \n",
      " Your team meeting is confirmed.\n",
      "Date: 25-02-2025\n",
      "Time: Tuesday, 2pm\n",
      "Attendees: Alice, Bob\n",
      "Event Title: Project Roadmap Discussion\n",
      "Please look forward to the meeting. \n",
      " https://example.com/event/123456789\n"
     ]
    },
    {
     "data": {
      "text/plain": [
       "{'id': 'chatcmpl-828',\n",
       " 'choices': [{'finish_reason': 'stop',\n",
       "   'index': 0,\n",
       "   'logprobs': None,\n",
       "   'message': {'content': '{\"meeting_description\": \"Project Roadmap Discussion\", \"is_calender_event\": true,\"confidence_score\": 0,\"title\": \"\", \"date\": \"25-02-2025\",\"duration_of_meeting\": 60, \"meeting_participated_members\": [\"\" , \"\"],\"confirmation_message\": \"This meeting is confirmed and will be held on Tuesday, the 25th of February at 2pm. We look forward to discussing the project roadmap with you, Alice and Bob.\", \"calendar_link\": \"<https://www.example.com/\"}',\n",
       "    'refusal': None,\n",
       "    'role': 'assistant',\n",
       "    'audio': None,\n",
       "    'function_call': None,\n",
       "    'tool_calls': [],\n",
       "    'parsed': {'meeting_description': 'Project Roadmap Discussion',\n",
       "     'is_calender_event': True,\n",
       "     'confidence_score': 0.0,\n",
       "     'title': '',\n",
       "     'date': '25-02-2025',\n",
       "     'duration_of_meeting': 60.0,\n",
       "     'meeting_participated_members': ['', ''],\n",
       "     'confirmation_message': 'This meeting is confirmed and will be held on Tuesday, the 25th of February at 2pm. We look forward to discussing the project roadmap with you, Alice and Bob.',\n",
       "     'calendar_link': '<https://www.example.com/'}}}],\n",
       " 'created': 1740032440,\n",
       " 'model': 'llama3.2',\n",
       " 'object': 'chat.completion',\n",
       " 'service_tier': None,\n",
       " 'system_fingerprint': 'fp_ollama',\n",
       " 'usage': {'completion_tokens': 127,\n",
       "  'prompt_tokens': 66,\n",
       "  'total_tokens': 193,\n",
       "  'completion_tokens_details': None,\n",
       "  'prompt_tokens_details': None}}"
      ]
     },
     "execution_count": 61,
     "metadata": {},
     "output_type": "execute_result"
    }
   ],
   "source": [
    "dt=getData(\"Let's schedule a 1h team meeting 25-02-2025, Tuesday at 2pm with Alice and Bob to discuss the project roadmap.\")\n",
    "# getData(\"Let's schedule a 30-minute catch-up with my manager to discuss my performance review.\")\n",
    "# getData(\"Schedule a 45-minute meeting with the design team to review the progress on the new website project.\")\n",
    "dt"
   ]
  },
  {
   "cell_type": "code",
   "execution_count": 74,
   "metadata": {},
   "outputs": [
    {
     "data": {
      "text/plain": [
       "'Project Roadmap Discussion'"
      ]
     },
     "execution_count": 74,
     "metadata": {},
     "output_type": "execute_result"
    }
   ],
   "source": [
    "jsn=json.loads(dt['choices'][0]['message']['content'])\n",
    "jsn['meeting_description']"
   ]
  },
  {
   "cell_type": "code",
   "execution_count": null,
   "metadata": {},
   "outputs": [],
   "source": []
  }
 ],
 "metadata": {
  "kernelspec": {
   "display_name": ".venv",
   "language": "python",
   "name": "python3"
  },
  "language_info": {
   "codemirror_mode": {
    "name": "ipython",
    "version": 3
   },
   "file_extension": ".py",
   "mimetype": "text/x-python",
   "name": "python",
   "nbconvert_exporter": "python",
   "pygments_lexer": "ipython3",
   "version": "3.10.12"
  }
 },
 "nbformat": 4,
 "nbformat_minor": 2
}
